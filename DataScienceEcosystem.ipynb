{
 "cells": [
  {
   "cell_type": "markdown",
   "id": "34f463c1-d686-4436-ac5d-a672c5ec9855",
   "metadata": {},
   "source": [
    "# Data Science Tools and Ecosystem\n",
    "\n",
    "#### Introduction\n",
    "\n",
    "In this notebook, Data Science Tools and Ecosystem are summarized.\n",
    "\n",
    "#### Data Science languages\n",
    "\n",
    "Some of the popular languages that Data Scientists use are: \n",
    "1. Python\n",
    "2. R\n",
    "3. SQL\n",
    "4. Java\n",
    "5. Scala\n",
    "6. Julia\n",
    "\n",
    "#### Data science libraries\n",
    "\n",
    "Some of the commonly used libraries used by Data Scientists include:\n",
    "1. Pandas\n",
    "2. NumPy\n",
    "3. Matplotlib\n",
    "\n",
    "#### Data Science Tools\n",
    "\n",
    "|  Data Science Tools  |\n",
    "| -------------------- |\n",
    "|  Jupyter Notebook    |\n",
    "|  RStudio             |\n",
    "|  Apache Spark        |\n",
    "\n",
    "### Below are a few examples of evaluating arithmetic expressions in Python"
   ]
  },
  {
   "cell_type": "code",
   "execution_count": 4,
   "id": "d5d288b8-328c-4c5a-96d1-fb74c7aa0a0d",
   "metadata": {},
   "outputs": [
    {
     "data": {
      "text/plain": [
       "17"
      ]
     },
     "execution_count": 4,
     "metadata": {},
     "output_type": "execute_result"
    }
   ],
   "source": [
    "# This is a simple arithmetic expression to multiply then add integers\n",
    "answer = (3 * 4) + 5\n",
    "answer\n"
   ]
  },
  {
   "cell_type": "code",
   "execution_count": 3,
   "id": "21b12e4f-b2db-4b10-a049-8b9187c92699",
   "metadata": {},
   "outputs": [
    {
     "data": {
      "text/plain": [
       "3.3333333333333335"
      ]
     },
     "execution_count": 3,
     "metadata": {},
     "output_type": "execute_result"
    }
   ],
   "source": [
    "# This will convert 200 minutes to hours by diving by 60\n",
    "hours = 200 / 60\n",
    "hours"
   ]
  },
  {
   "cell_type": "markdown",
   "id": "3aeeccfb-98da-4a5e-bbfd-644efc884168",
   "metadata": {},
   "source": [
    "#### **Objectives**\n",
    "* Data Science languages\n",
    "* Data science libraries\n",
    "* Data Science Tools\n",
    "* Evaluating basic arithmetic expressions in python\n",
    "\n",
    "## Author:\n",
    "**Sanjeeth Anand**"
   ]
  }
 ],
 "metadata": {
  "kernelspec": {
   "display_name": "Python 3 (ipykernel)",
   "language": "python",
   "name": "python3"
  },
  "language_info": {
   "codemirror_mode": {
    "name": "ipython",
    "version": 3
   },
   "file_extension": ".py",
   "mimetype": "text/x-python",
   "name": "python",
   "nbconvert_exporter": "python",
   "pygments_lexer": "ipython3",
   "version": "3.11.9"
  }
 },
 "nbformat": 4,
 "nbformat_minor": 5
}
